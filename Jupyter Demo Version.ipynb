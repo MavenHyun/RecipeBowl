{
 "cells": [
  {
   "cell_type": "markdown",
   "id": "051e8f28",
   "metadata": {},
   "source": [
    "## Load the RecipeBowl Model"
   ]
  },
  {
   "cell_type": "code",
   "execution_count": 1,
   "id": "e1fed712",
   "metadata": {},
   "outputs": [
    {
     "name": "stderr",
     "output_type": "stream",
     "text": [
      "100%|██████████| 3729/3729 [00:00<00:00, 278267.11it/s]"
     ]
    },
    {
     "name": "stdout",
     "output_type": "stream",
     "text": [
      "11.1\n",
      "Loaded FlavorGraph vectors!\n"
     ]
    },
    {
     "name": "stderr",
     "output_type": "stream",
     "text": [
      "\n"
     ]
    },
    {
     "name": "stdout",
     "output_type": "stream",
     "text": [
      "+--------------------------------------------------------+\n",
      "|                  20210116-122234_ADX3                  |\n",
      "+---------------------------------+----------------------+\n",
      "|          Hyperparameter         | 20210116-122234_ADX3 |\n",
      "+---------------------------------+----------------------+\n",
      "|           Session Name          | 20210116-122234_ADX3 |\n",
      "|         IMRecipe Dataset        |         full         |\n",
      "|   Ingredient(s) Encoder Model   |       deepset        |\n",
      "| Ingredient(s) Embedding Vectors |     flavorgraph      |\n",
      "|    Ingredient(s) Fine Tuning?   |         True         |\n",
      "|     Ingredient Decoder Model    |         prob         |\n",
      "|     Ingredient Loss Function    |       nll_euc        |\n",
      "|       Recipe Loss Function      |         cos          |\n",
      "|     Recipe Loss Coefficient     |         1.0          |\n",
      "|      Add Tag Binary Vectors     |         True         |\n",
      "|      Hidden Dimension Size      |         128          |\n",
      "|          Learning Rate          |        0.001         |\n",
      "|           Weight Decay          |         0.0          |\n",
      "|           Dropout Rate          |         0.0          |\n",
      "|         Number of Epochs        |          60          |\n",
      "|            Batch Size           |         512          |\n",
      "|        Number of Targets        |          1           |\n",
      "|       Number of Neighbors       |          9           |\n",
      "+---------------------------------+----------------------+\n",
      "Number of Neighbors for Ranking 1\n"
     ]
    },
    {
     "data": {
      "text/plain": [
       "RecipeCompletion(\n",
       "  (ingredients2latent): DeepSet(\n",
       "    (u_ingbedding): Sequential(\n",
       "      (0): Embedding(30167, 300, padding_idx=0)\n",
       "      (1): Linear(in_features=300, out_features=300, bias=False)\n",
       "      (2): ReLU()\n",
       "      (3): LayerNorm((300,), eps=1e-05, elementwise_affine=True)\n",
       "    )\n",
       "    (v_ingbedding): Sequential(\n",
       "      (0): Embedding(30167, 300, padding_idx=0)\n",
       "      (1): Linear(in_features=300, out_features=300, bias=False)\n",
       "      (2): ReLU()\n",
       "      (3): LayerNorm((300,), eps=1e-05, elementwise_affine=True)\n",
       "    )\n",
       "    (encoder): Sequential(\n",
       "      (0): Linear(in_features=300, out_features=128, bias=False)\n",
       "      (1): ReLU()\n",
       "      (2): LayerNorm((128,), eps=1e-05, elementwise_affine=True)\n",
       "      (3): Linear(in_features=128, out_features=128, bias=False)\n",
       "      (4): ReLU()\n",
       "      (5): LayerNorm((128,), eps=1e-05, elementwise_affine=True)\n",
       "      (6): Linear(in_features=128, out_features=128, bias=False)\n",
       "      (7): ReLU()\n",
       "      (8): LayerNorm((128,), eps=1e-05, elementwise_affine=True)\n",
       "    )\n",
       "    (decoder): Sequential(\n",
       "      (0): Linear(in_features=128, out_features=128, bias=True)\n",
       "      (1): ReLU()\n",
       "      (2): LayerNorm((128,), eps=1e-05, elementwise_affine=True)\n",
       "    )\n",
       "  )\n",
       "  (latent2prediction): ProbabilityLearner(\n",
       "    (lat2ingred): Sequential(\n",
       "      (0): Linear(in_features=758, out_features=300, bias=True)\n",
       "      (1): ReLU()\n",
       "      (2): LayerNorm((300,), eps=1e-05, elementwise_affine=True)\n",
       "      (3): Linear(in_features=300, out_features=300, bias=True)\n",
       "    )\n",
       "    (lat2recipe): Sequential(\n",
       "      (0): Linear(in_features=758, out_features=300, bias=True)\n",
       "      (1): ReLU()\n",
       "      (2): LayerNorm((300,), eps=1e-05, elementwise_affine=True)\n",
       "      (3): Linear(in_features=300, out_features=600, bias=True)\n",
       "    )\n",
       "  )\n",
       ")"
      ]
     },
     "execution_count": 1,
     "metadata": {},
     "output_type": "execute_result"
    }
   ],
   "source": [
    "import torch\n",
    "import pickle\n",
    "from RecipeCompletion import RecipeCompletion as rb\n",
    "print(torch.version.cuda)\n",
    "torch.cuda.set_device(2)\n",
    "PATH_MODEL = 'saved/20210116-122234_ADX3/'\n",
    "\n",
    "config = pickle.load(open(PATH_MODEL + 'hyperparameters.pkl', 'rb'))\n",
    "model = rb(config).cuda()\n",
    "model.load_state_dict(torch.load(PATH_MODEL + 'last.mdl'))\n",
    "model.eval()"
   ]
  },
  {
   "cell_type": "markdown",
   "id": "4c4bb0da",
   "metadata": {},
   "source": [
    "## Put the Ingredients and Recipe-related Tags to get Recommendations"
   ]
  },
  {
   "cell_type": "code",
   "execution_count": 2,
   "id": "fe811ec7",
   "metadata": {},
   "outputs": [
    {
     "name": "stdout",
     "output_type": "stream",
     "text": [
      "Checking Ingredients...\n",
      "Checking Recipe-related Tags...\n",
      "#1 Recommendation: pancake_mix\n",
      "#2 Recommendation: onion_soup_mix\n",
      "#3 Recommendation: corn_muffin_mix\n",
      "#4 Recommendation: onion_salt\n",
      "#5 Recommendation: baking_mix\n",
      "#1 Recommendation: Chili Cheese Pie\n",
      "#2 Recommendation: Breakfast Enchiladas\n",
      "#3 Recommendation: Easy Christmas Morning Breakfast\n",
      "#4 Recommendation: Better Scramble\n",
      "#5 Recommendation: Cheesy Tuna Moussaka\n"
     ]
    }
   ],
   "source": [
    "ingredient_list = ['water', 'butter', 'milk', 'mashed_potatoes', 'whole_kernel_corn', 'cheddar_cheese']\n",
    "tags_list = ['30-minutes-or-less', 'side-dishes','easy','mashed-potatoes','weeknight']\n",
    "ing_list, rec_list = model.predict(ingredient_list, tags_list)\n",
    "\n",
    "for idx, ing in enumerate(ing_list): print(f'#{idx+1} Recommendation: {ing}')\n",
    "for idx, rec in enumerate(rec_list): print(f'#{idx+1} Recommendation: {rec}')"
   ]
  },
  {
   "cell_type": "code",
   "execution_count": null,
   "id": "0745472e",
   "metadata": {},
   "outputs": [],
   "source": []
  }
 ],
 "metadata": {
  "kernelspec": {
   "display_name": "Python 3",
   "language": "python",
   "name": "python3"
  },
  "language_info": {
   "codemirror_mode": {
    "name": "ipython",
    "version": 3
   },
   "file_extension": ".py",
   "mimetype": "text/x-python",
   "name": "python",
   "nbconvert_exporter": "python",
   "pygments_lexer": "ipython3",
   "version": "3.6.12"
  }
 },
 "nbformat": 4,
 "nbformat_minor": 5
}
